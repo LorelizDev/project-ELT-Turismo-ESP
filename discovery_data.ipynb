{
 "cells": [
  {
   "cell_type": "markdown",
   "metadata": {},
   "source": [
    "# Discovery Fuentes datos.gob.es"
   ]
  },
  {
   "cell_type": "code",
   "execution_count": 1,
   "metadata": {},
   "outputs": [],
   "source": [
    "\n",
    "import pandas as pd\n",
    "import requests"
   ]
  },
  {
   "cell_type": "markdown",
   "metadata": {},
   "source": [
    "### Descarga del dataset"
   ]
  },
  {
   "cell_type": "markdown",
   "metadata": {},
   "source": [
    "Se utilizará un dataset público proporcionado por el Instituto Nacional de Estadística de España disponible en datos.gob.es."
   ]
  },
  {
   "cell_type": "code",
   "execution_count": 34,
   "metadata": {},
   "outputs": [],
   "source": [
    "# URL del archivo CSV\n",
    "URL = \"https://www.ine.es/jaxiT3/files/t/csv_bdsc/48423.csv\"\n",
    "\n",
    "# Ruta específica donde se desea guardar el archivo CSV descargado\n",
    "PATH = \"data/tourism_spain_dataset.csv\""
   ]
  },
  {
   "cell_type": "code",
   "execution_count": 5,
   "metadata": {},
   "outputs": [
    {
     "name": "stdout",
     "output_type": "stream",
     "text": [
      "Archivo descargado exitosamente en: data/tourism_spain_dataset.csv\n"
     ]
    }
   ],
   "source": [
    "# Realizamos la solicitud HTTP para descargar el archivo\n",
    "r = requests.get(URL)\n",
    "\n",
    "# Verificamos que la solicitud fue exitosa (código de estado 200)\n",
    "if r.status_code == 200:\n",
    "    # Guardamos la información descargada en el archivo local\n",
    "    with open(PATH, 'wb') as f:\n",
    "        f.write(r.content)\n",
    "    print(f\"Archivo descargado exitosamente en: {PATH}\")\n",
    "else:\n",
    "    print(f\"Error al descargar el archivo. Código de estado: {r.status_code}\")"
   ]
  },
  {
   "cell_type": "markdown",
   "metadata": {},
   "source": [
    "### Carga del dataset"
   ]
  },
  {
   "cell_type": "markdown",
   "metadata": {},
   "source": [
    "Cargamos nuestro dataset dentro de un dataframe de `pandas` que nos permite manipular, limpiar y visualizar fácilmente nuestros datos."
   ]
  },
  {
   "cell_type": "code",
   "execution_count": 6,
   "metadata": {},
   "outputs": [],
   "source": [
    "df = pd.read_csv(PATH, delimiter=';')"
   ]
  },
  {
   "cell_type": "markdown",
   "metadata": {},
   "source": [
    "Utilizamos el método `data.info` para conocer el tipo de dato de cada columna y la cantidad de valores no nulos."
   ]
  },
  {
   "cell_type": "code",
   "execution_count": 7,
   "metadata": {},
   "outputs": [
    {
     "name": "stdout",
     "output_type": "stream",
     "text": [
      "<class 'pandas.core.frame.DataFrame'>\n",
      "RangeIndex: 12420 entries, 0 to 12419\n",
      "Data columns (total 6 columns):\n",
      " #   Column                            Non-Null Count  Dtype \n",
      "---  ------                            --------------  ----- \n",
      " 0   Concepto turístico                12420 non-null  object\n",
      " 1   Total Nacional                    12420 non-null  object\n",
      " 2   Comunidades y Ciudades Autónomas  11799 non-null  object\n",
      " 3   Residencia del viajero            12420 non-null  object\n",
      " 4   Periodo                           12420 non-null  object\n",
      " 5   Total                             11907 non-null  object\n",
      "dtypes: object(6)\n",
      "memory usage: 582.3+ KB\n"
     ]
    }
   ],
   "source": [
    "df.info()"
   ]
  },
  {
   "cell_type": "code",
   "execution_count": 8,
   "metadata": {},
   "outputs": [
    {
     "data": {
      "text/html": [
       "<div>\n",
       "<style scoped>\n",
       "    .dataframe tbody tr th:only-of-type {\n",
       "        vertical-align: middle;\n",
       "    }\n",
       "\n",
       "    .dataframe tbody tr th {\n",
       "        vertical-align: top;\n",
       "    }\n",
       "\n",
       "    .dataframe thead th {\n",
       "        text-align: right;\n",
       "    }\n",
       "</style>\n",
       "<table border=\"1\" class=\"dataframe\">\n",
       "  <thead>\n",
       "    <tr style=\"text-align: right;\">\n",
       "      <th></th>\n",
       "      <th>Concepto turístico</th>\n",
       "      <th>Total Nacional</th>\n",
       "      <th>Comunidades y Ciudades Autónomas</th>\n",
       "      <th>Residencia del viajero</th>\n",
       "      <th>Periodo</th>\n",
       "      <th>Total</th>\n",
       "    </tr>\n",
       "  </thead>\n",
       "  <tbody>\n",
       "    <tr>\n",
       "      <th>0</th>\n",
       "      <td>Número de alojamientos turísticos ocupados</td>\n",
       "      <td>Total Nacional</td>\n",
       "      <td>NaN</td>\n",
       "      <td>Total</td>\n",
       "      <td>2023M09</td>\n",
       "      <td>1.019.000</td>\n",
       "    </tr>\n",
       "    <tr>\n",
       "      <th>1</th>\n",
       "      <td>Número de alojamientos turísticos ocupados</td>\n",
       "      <td>Total Nacional</td>\n",
       "      <td>NaN</td>\n",
       "      <td>Total</td>\n",
       "      <td>2023M08</td>\n",
       "      <td>1.287.000</td>\n",
       "    </tr>\n",
       "    <tr>\n",
       "      <th>2</th>\n",
       "      <td>Número de alojamientos turísticos ocupados</td>\n",
       "      <td>Total Nacional</td>\n",
       "      <td>NaN</td>\n",
       "      <td>Total</td>\n",
       "      <td>2023M07</td>\n",
       "      <td>1.164.000</td>\n",
       "    </tr>\n",
       "    <tr>\n",
       "      <th>3</th>\n",
       "      <td>Número de alojamientos turísticos ocupados</td>\n",
       "      <td>Total Nacional</td>\n",
       "      <td>NaN</td>\n",
       "      <td>Total</td>\n",
       "      <td>2023M06</td>\n",
       "      <td>775.000</td>\n",
       "    </tr>\n",
       "    <tr>\n",
       "      <th>4</th>\n",
       "      <td>Número de alojamientos turísticos ocupados</td>\n",
       "      <td>Total Nacional</td>\n",
       "      <td>NaN</td>\n",
       "      <td>Total</td>\n",
       "      <td>2023M05</td>\n",
       "      <td>691.000</td>\n",
       "    </tr>\n",
       "  </tbody>\n",
       "</table>\n",
       "</div>"
      ],
      "text/plain": [
       "                           Concepto turístico  Total Nacional  \\\n",
       "0  Número de alojamientos turísticos ocupados  Total Nacional   \n",
       "1  Número de alojamientos turísticos ocupados  Total Nacional   \n",
       "2  Número de alojamientos turísticos ocupados  Total Nacional   \n",
       "3  Número de alojamientos turísticos ocupados  Total Nacional   \n",
       "4  Número de alojamientos turísticos ocupados  Total Nacional   \n",
       "\n",
       "  Comunidades y Ciudades Autónomas Residencia del viajero  Periodo      Total  \n",
       "0                              NaN                 Total   2023M09  1.019.000  \n",
       "1                              NaN                 Total   2023M08  1.287.000  \n",
       "2                              NaN                 Total   2023M07  1.164.000  \n",
       "3                              NaN                 Total   2023M06    775.000  \n",
       "4                              NaN                 Total   2023M05    691.000  "
      ]
     },
     "execution_count": 8,
     "metadata": {},
     "output_type": "execute_result"
    }
   ],
   "source": [
    "df.head()"
   ]
  },
  {
   "cell_type": "code",
   "execution_count": 9,
   "metadata": {},
   "outputs": [
    {
     "data": {
      "text/plain": [
       "array([nan, '01 Andalucía', '02 Aragón', '03 Asturias, Principado de',\n",
       "       '04 Balears, Illes', '05 Canarias', '06 Cantabria',\n",
       "       '07 Castilla y León', '08 Castilla - La Mancha', '09 Cataluña',\n",
       "       '10 Comunitat Valenciana', '11 Extremadura', '12 Galicia',\n",
       "       '13 Madrid, Comunidad de', '14 Murcia, Región de',\n",
       "       '15 Navarra, Comunidad Foral de', '16 País Vasco', '17 Rioja, La',\n",
       "       '18 Ceuta', '19 Melilla'], dtype=object)"
      ]
     },
     "execution_count": 9,
     "metadata": {},
     "output_type": "execute_result"
    }
   ],
   "source": [
    "df['Comunidades y Ciudades Autónomas'].unique()"
   ]
  },
  {
   "cell_type": "code",
   "execution_count": 19,
   "metadata": {},
   "outputs": [
    {
     "data": {
      "text/html": [
       "<div>\n",
       "<style scoped>\n",
       "    .dataframe tbody tr th:only-of-type {\n",
       "        vertical-align: middle;\n",
       "    }\n",
       "\n",
       "    .dataframe tbody tr th {\n",
       "        vertical-align: top;\n",
       "    }\n",
       "\n",
       "    .dataframe thead th {\n",
       "        text-align: right;\n",
       "    }\n",
       "</style>\n",
       "<table border=\"1\" class=\"dataframe\">\n",
       "  <thead>\n",
       "    <tr style=\"text-align: right;\">\n",
       "      <th></th>\n",
       "      <th>Comunidades y Ciudades Autónomas</th>\n",
       "      <th>Periodo</th>\n",
       "      <th>Concepto turístico</th>\n",
       "      <th>Total</th>\n",
       "    </tr>\n",
       "  </thead>\n",
       "  <tbody>\n",
       "    <tr>\n",
       "      <th>207</th>\n",
       "      <td>01 Andalucía</td>\n",
       "      <td>2023M09</td>\n",
       "      <td>Número de alojamientos turísticos ocupados</td>\n",
       "      <td>NaN</td>\n",
       "    </tr>\n",
       "    <tr>\n",
       "      <th>8548</th>\n",
       "      <td>01 Andalucía</td>\n",
       "      <td>2018M08</td>\n",
       "      <td>Estancia media</td>\n",
       "      <td>4,6</td>\n",
       "    </tr>\n",
       "    <tr>\n",
       "      <th>8547</th>\n",
       "      <td>01 Andalucía</td>\n",
       "      <td>2018M09</td>\n",
       "      <td>Estancia media</td>\n",
       "      <td>3,9</td>\n",
       "    </tr>\n",
       "    <tr>\n",
       "      <th>8546</th>\n",
       "      <td>01 Andalucía</td>\n",
       "      <td>2018M10</td>\n",
       "      <td>Estancia media</td>\n",
       "      <td>3,6</td>\n",
       "    </tr>\n",
       "    <tr>\n",
       "      <th>8545</th>\n",
       "      <td>01 Andalucía</td>\n",
       "      <td>2018M11</td>\n",
       "      <td>Estancia media</td>\n",
       "      <td>3,4</td>\n",
       "    </tr>\n",
       "    <tr>\n",
       "      <th>...</th>\n",
       "      <td>...</td>\n",
       "      <td>...</td>\n",
       "      <td>...</td>\n",
       "      <td>...</td>\n",
       "    </tr>\n",
       "    <tr>\n",
       "      <th>8482</th>\n",
       "      <td>NaN</td>\n",
       "      <td>2018M05</td>\n",
       "      <td>Estancia media</td>\n",
       "      <td>4,4</td>\n",
       "    </tr>\n",
       "    <tr>\n",
       "      <th>8483</th>\n",
       "      <td>NaN</td>\n",
       "      <td>2018M04</td>\n",
       "      <td>Estancia media</td>\n",
       "      <td>4,5</td>\n",
       "    </tr>\n",
       "    <tr>\n",
       "      <th>8484</th>\n",
       "      <td>NaN</td>\n",
       "      <td>2018M03</td>\n",
       "      <td>Estancia media</td>\n",
       "      <td>4,9</td>\n",
       "    </tr>\n",
       "    <tr>\n",
       "      <th>8485</th>\n",
       "      <td>NaN</td>\n",
       "      <td>2018M02</td>\n",
       "      <td>Estancia media</td>\n",
       "      <td>5,3</td>\n",
       "    </tr>\n",
       "    <tr>\n",
       "      <th>8486</th>\n",
       "      <td>NaN</td>\n",
       "      <td>2018M01</td>\n",
       "      <td>Estancia media</td>\n",
       "      <td>5,2</td>\n",
       "    </tr>\n",
       "  </tbody>\n",
       "</table>\n",
       "<p>10703 rows × 4 columns</p>\n",
       "</div>"
      ],
      "text/plain": [
       "     Comunidades y Ciudades Autónomas  Periodo  \\\n",
       "207                      01 Andalucía  2023M09   \n",
       "8548                     01 Andalucía  2018M08   \n",
       "8547                     01 Andalucía  2018M09   \n",
       "8546                     01 Andalucía  2018M10   \n",
       "8545                     01 Andalucía  2018M11   \n",
       "...                               ...      ...   \n",
       "8482                              NaN  2018M05   \n",
       "8483                              NaN  2018M04   \n",
       "8484                              NaN  2018M03   \n",
       "8485                              NaN  2018M02   \n",
       "8486                              NaN  2018M01   \n",
       "\n",
       "                              Concepto turístico Total  \n",
       "207   Número de alojamientos turísticos ocupados   NaN  \n",
       "8548                              Estancia media   4,6  \n",
       "8547                              Estancia media   3,9  \n",
       "8546                              Estancia media   3,6  \n",
       "8545                              Estancia media   3,4  \n",
       "...                                          ...   ...  \n",
       "8482                              Estancia media   4,4  \n",
       "8483                              Estancia media   4,5  \n",
       "8484                              Estancia media   4,9  \n",
       "8485                              Estancia media   5,3  \n",
       "8486                              Estancia media   5,2  \n",
       "\n",
       "[10703 rows x 4 columns]"
      ]
     },
     "execution_count": 19,
     "metadata": {},
     "output_type": "execute_result"
    }
   ],
   "source": [
    "df[['Comunidades y Ciudades Autónomas', 'Periodo', 'Concepto turístico', 'Total']].drop_duplicates().sort_values(by='Comunidades y Ciudades Autónomas')"
   ]
  },
  {
   "cell_type": "code",
   "execution_count": 33,
   "metadata": {},
   "outputs": [],
   "source": [
    "df.sample(50).to_csv('test/tourism_spain_sample.csv')"
   ]
  },
  {
   "cell_type": "code",
   "execution_count": 31,
   "metadata": {},
   "outputs": [],
   "source": [
    "df.query('`Comunidades y Ciudades Autónomas`== \"01 Andalucía\"').sample(50).to_csv('test/Andalucía_sample.csv')"
   ]
  },
  {
   "cell_type": "code",
   "execution_count": null,
   "metadata": {},
   "outputs": [],
   "source": []
  },
  {
   "cell_type": "markdown",
   "metadata": {},
   "source": [
    "Al ver la información del dataset nos damos cuenta que la columna `Total` debería ser un valor de tipo numérico en vez de tipo objeto. Esto sucede porque `pandas` interpreta los valores como string, ya que hay valores faltantes no codificados como `NaN` y, además, se está usando el punto como separador de miles y la coma como separador decimal, por lo que debemos reemplazar dichos caracteres y convertir los datos al tipo correspondiente.\n",
    "\n",
    "Adicionalmente, reemplazaremos los valores nulos de la columna `Comunidades y Ciudades Autónomas` por la cadena de caracteres `\"Total Nacional\"` ya que se refiere a los datos obtenidos en el conjunto de todas las Comunidades y Ciudades Autónomas."
   ]
  },
  {
   "cell_type": "code",
   "execution_count": 7,
   "metadata": {},
   "outputs": [],
   "source": [
    "# Reemplazamos valores faltantes codificados con puntos por NaN\n",
    "data = data.replace({'..':np.nan}).replace({'.':np.nan})\n",
    "\n",
    "# Eliminamos los puntos como separadores de miles y reemplazamos las comas por puntos para separar decimales\n",
    "data['Total'] = data['Total'].str.replace('.', '').str.replace(',', '.').astype(float)\n",
    "\n",
    "# Reemplazamos los valores nulos de la columna \"Comunidades y Ciudades Autónomas\" por \"Total Nacional\"\n",
    "data['Comunidades y Ciudades Autónomas'] = data['Comunidades y Ciudades Autónomas'].fillna('Total Nacional').reset_index(drop=True)"
   ]
  },
  {
   "cell_type": "markdown",
   "metadata": {},
   "source": [
    "Además, convertimos el tipo de dato de la columna `Periodo` a `datetime` para mejor manipulación."
   ]
  },
  {
   "cell_type": "code",
   "execution_count": 8,
   "metadata": {},
   "outputs": [],
   "source": [
    "# Convertimos la columna \"Periodo\" a tipo datetime para trabajar con fechas\n",
    "data['Periodo'] = pd.to_datetime(data['Periodo'], format='%YM%m')\n",
    "\n",
    "# Extraemos el año y mes de la columna \"Periodo\" y creamos nuevas columnas\n",
    "data['Año'] = data['Periodo'].dt.year\n",
    "data['Mes'] = data['Periodo'].dt.month\n",
    "\n",
    "#  Eliminamos la columna \"Periodo\" ya que no la necesitaremos más\n",
    "data = data.drop('Periodo', axis=1)"
   ]
  },
  {
   "cell_type": "code",
   "execution_count": 9,
   "metadata": {},
   "outputs": [
    {
     "data": {
      "text/html": [
       "<div>\n",
       "<style scoped>\n",
       "    .dataframe tbody tr th:only-of-type {\n",
       "        vertical-align: middle;\n",
       "    }\n",
       "\n",
       "    .dataframe tbody tr th {\n",
       "        vertical-align: top;\n",
       "    }\n",
       "\n",
       "    .dataframe thead th {\n",
       "        text-align: right;\n",
       "    }\n",
       "</style>\n",
       "<table border=\"1\" class=\"dataframe\">\n",
       "  <thead>\n",
       "    <tr style=\"text-align: right;\">\n",
       "      <th></th>\n",
       "      <th>Concepto turístico</th>\n",
       "      <th>Total Nacional</th>\n",
       "      <th>Comunidades y Ciudades Autónomas</th>\n",
       "      <th>Residencia del viajero</th>\n",
       "      <th>Total</th>\n",
       "      <th>Año</th>\n",
       "      <th>Mes</th>\n",
       "    </tr>\n",
       "  </thead>\n",
       "  <tbody>\n",
       "    <tr>\n",
       "      <th>0</th>\n",
       "      <td>Número de alojamientos turísticos ocupados</td>\n",
       "      <td>Total Nacional</td>\n",
       "      <td>Total Nacional</td>\n",
       "      <td>Total</td>\n",
       "      <td>1019000.0</td>\n",
       "      <td>2023</td>\n",
       "      <td>9</td>\n",
       "    </tr>\n",
       "    <tr>\n",
       "      <th>1</th>\n",
       "      <td>Número de alojamientos turísticos ocupados</td>\n",
       "      <td>Total Nacional</td>\n",
       "      <td>Total Nacional</td>\n",
       "      <td>Total</td>\n",
       "      <td>1287000.0</td>\n",
       "      <td>2023</td>\n",
       "      <td>8</td>\n",
       "    </tr>\n",
       "    <tr>\n",
       "      <th>2</th>\n",
       "      <td>Número de alojamientos turísticos ocupados</td>\n",
       "      <td>Total Nacional</td>\n",
       "      <td>Total Nacional</td>\n",
       "      <td>Total</td>\n",
       "      <td>1164000.0</td>\n",
       "      <td>2023</td>\n",
       "      <td>7</td>\n",
       "    </tr>\n",
       "    <tr>\n",
       "      <th>3</th>\n",
       "      <td>Número de alojamientos turísticos ocupados</td>\n",
       "      <td>Total Nacional</td>\n",
       "      <td>Total Nacional</td>\n",
       "      <td>Total</td>\n",
       "      <td>775000.0</td>\n",
       "      <td>2023</td>\n",
       "      <td>6</td>\n",
       "    </tr>\n",
       "    <tr>\n",
       "      <th>4</th>\n",
       "      <td>Número de alojamientos turísticos ocupados</td>\n",
       "      <td>Total Nacional</td>\n",
       "      <td>Total Nacional</td>\n",
       "      <td>Total</td>\n",
       "      <td>691000.0</td>\n",
       "      <td>2023</td>\n",
       "      <td>5</td>\n",
       "    </tr>\n",
       "    <tr>\n",
       "      <th>...</th>\n",
       "      <td>...</td>\n",
       "      <td>...</td>\n",
       "      <td>...</td>\n",
       "      <td>...</td>\n",
       "      <td>...</td>\n",
       "      <td>...</td>\n",
       "      <td>...</td>\n",
       "    </tr>\n",
       "    <tr>\n",
       "      <th>12415</th>\n",
       "      <td>Estancia media</td>\n",
       "      <td>Total Nacional</td>\n",
       "      <td>19 Melilla</td>\n",
       "      <td>Residentes en el Extranjero</td>\n",
       "      <td>NaN</td>\n",
       "      <td>2018</td>\n",
       "      <td>5</td>\n",
       "    </tr>\n",
       "    <tr>\n",
       "      <th>12416</th>\n",
       "      <td>Estancia media</td>\n",
       "      <td>Total Nacional</td>\n",
       "      <td>19 Melilla</td>\n",
       "      <td>Residentes en el Extranjero</td>\n",
       "      <td>NaN</td>\n",
       "      <td>2018</td>\n",
       "      <td>4</td>\n",
       "    </tr>\n",
       "    <tr>\n",
       "      <th>12417</th>\n",
       "      <td>Estancia media</td>\n",
       "      <td>Total Nacional</td>\n",
       "      <td>19 Melilla</td>\n",
       "      <td>Residentes en el Extranjero</td>\n",
       "      <td>NaN</td>\n",
       "      <td>2018</td>\n",
       "      <td>3</td>\n",
       "    </tr>\n",
       "    <tr>\n",
       "      <th>12418</th>\n",
       "      <td>Estancia media</td>\n",
       "      <td>Total Nacional</td>\n",
       "      <td>19 Melilla</td>\n",
       "      <td>Residentes en el Extranjero</td>\n",
       "      <td>NaN</td>\n",
       "      <td>2018</td>\n",
       "      <td>2</td>\n",
       "    </tr>\n",
       "    <tr>\n",
       "      <th>12419</th>\n",
       "      <td>Estancia media</td>\n",
       "      <td>Total Nacional</td>\n",
       "      <td>19 Melilla</td>\n",
       "      <td>Residentes en el Extranjero</td>\n",
       "      <td>NaN</td>\n",
       "      <td>2018</td>\n",
       "      <td>1</td>\n",
       "    </tr>\n",
       "  </tbody>\n",
       "</table>\n",
       "<p>12420 rows × 7 columns</p>\n",
       "</div>"
      ],
      "text/plain": [
       "                               Concepto turístico  Total Nacional  \\\n",
       "0      Número de alojamientos turísticos ocupados  Total Nacional   \n",
       "1      Número de alojamientos turísticos ocupados  Total Nacional   \n",
       "2      Número de alojamientos turísticos ocupados  Total Nacional   \n",
       "3      Número de alojamientos turísticos ocupados  Total Nacional   \n",
       "4      Número de alojamientos turísticos ocupados  Total Nacional   \n",
       "...                                           ...             ...   \n",
       "12415                              Estancia media  Total Nacional   \n",
       "12416                              Estancia media  Total Nacional   \n",
       "12417                              Estancia media  Total Nacional   \n",
       "12418                              Estancia media  Total Nacional   \n",
       "12419                              Estancia media  Total Nacional   \n",
       "\n",
       "      Comunidades y Ciudades Autónomas       Residencia del viajero  \\\n",
       "0                       Total Nacional                       Total    \n",
       "1                       Total Nacional                       Total    \n",
       "2                       Total Nacional                       Total    \n",
       "3                       Total Nacional                       Total    \n",
       "4                       Total Nacional                       Total    \n",
       "...                                ...                          ...   \n",
       "12415                       19 Melilla  Residentes en el Extranjero   \n",
       "12416                       19 Melilla  Residentes en el Extranjero   \n",
       "12417                       19 Melilla  Residentes en el Extranjero   \n",
       "12418                       19 Melilla  Residentes en el Extranjero   \n",
       "12419                       19 Melilla  Residentes en el Extranjero   \n",
       "\n",
       "           Total   Año  Mes  \n",
       "0      1019000.0  2023    9  \n",
       "1      1287000.0  2023    8  \n",
       "2      1164000.0  2023    7  \n",
       "3       775000.0  2023    6  \n",
       "4       691000.0  2023    5  \n",
       "...          ...   ...  ...  \n",
       "12415        NaN  2018    5  \n",
       "12416        NaN  2018    4  \n",
       "12417        NaN  2018    3  \n",
       "12418        NaN  2018    2  \n",
       "12419        NaN  2018    1  \n",
       "\n",
       "[12420 rows x 7 columns]"
      ]
     },
     "execution_count": 9,
     "metadata": {},
     "output_type": "execute_result"
    }
   ],
   "source": [
    "data"
   ]
  },
  {
   "cell_type": "code",
   "execution_count": 10,
   "metadata": {},
   "outputs": [
    {
     "data": {
      "text/plain": [
       "Concepto turístico                    3\n",
       "Total Nacional                        1\n",
       "Comunidades y Ciudades Autónomas     20\n",
       "Residencia del viajero                3\n",
       "Total                               823\n",
       "Año                                   6\n",
       "Mes                                  12\n",
       "dtype: int64"
      ]
     },
     "execution_count": 10,
     "metadata": {},
     "output_type": "execute_result"
    }
   ],
   "source": [
    "data.nunique()"
   ]
  },
  {
   "cell_type": "markdown",
   "metadata": {},
   "source": [
    "Eliminamos la columna `Total Nacional` ya que sólo tiene un valor único que no aporta utilidad al estudio."
   ]
  },
  {
   "cell_type": "code",
   "execution_count": 11,
   "metadata": {},
   "outputs": [],
   "source": [
    "data.drop('Total Nacional', axis=1, inplace=True)"
   ]
  },
  {
   "cell_type": "markdown",
   "metadata": {},
   "source": [
    "Ahora, queremos rellenar los valores nulos de la columna `Total` con el promedio del respectivo mes."
   ]
  },
  {
   "cell_type": "code",
   "execution_count": 12,
   "metadata": {},
   "outputs": [],
   "source": [
    "# Definimos las columnas para agrupar\n",
    "group_columns = ['Concepto turístico', 'Comunidades y Ciudades Autónomas', 'Residencia del viajero','Año','Mes']\n",
    "\n",
    "# Agrupamos los datos en base a las columnas definidas y calculamos el promedio del \"Total\"\n",
    "average_totals = data.groupby(group_columns)['Total'].mean()\n",
    "\n",
    "# Fusionamos el DataFrame original con el DataFrame de promedios\n",
    "data = pd.merge(data, average_totals, on=group_columns, suffixes=('', '_average'), how='left')\n",
    "\n",
    "# Llenamos los valores nulos en la columna \"Total\" con el valor promedio correspondiente\n",
    "data['Total'] = data['Total'].fillna(data['Total_average'])\n",
    "\n",
    "# Eliminamos la columna de promedios ya que no es necesaria\n",
    "data.drop('Total_average', axis=1,  inplace=True)"
   ]
  },
  {
   "cell_type": "markdown",
   "metadata": {},
   "source": [
    "Verificamos los nulos de las columnas que nos quedaron."
   ]
  },
  {
   "cell_type": "code",
   "execution_count": 13,
   "metadata": {},
   "outputs": [
    {
     "data": {
      "text/plain": [
       "Concepto turístico                     0\n",
       "Comunidades y Ciudades Autónomas       0\n",
       "Residencia del viajero                 0\n",
       "Total                               2702\n",
       "Año                                    0\n",
       "Mes                                    0\n",
       "dtype: int64"
      ]
     },
     "execution_count": 13,
     "metadata": {},
     "output_type": "execute_result"
    }
   ],
   "source": [
    "data.isnull().sum()"
   ]
  },
  {
   "cell_type": "markdown",
   "metadata": {},
   "source": [
    "Eliminamos las filas con valores nulos."
   ]
  },
  {
   "cell_type": "code",
   "execution_count": 14,
   "metadata": {},
   "outputs": [],
   "source": [
    "data = data.dropna().reset_index(drop=True)"
   ]
  },
  {
   "cell_type": "code",
   "execution_count": 15,
   "metadata": {},
   "outputs": [
    {
     "name": "stdout",
     "output_type": "stream",
     "text": [
      "<class 'pandas.core.frame.DataFrame'>\n",
      "RangeIndex: 9718 entries, 0 to 9717\n",
      "Data columns (total 6 columns):\n",
      " #   Column                            Non-Null Count  Dtype  \n",
      "---  ------                            --------------  -----  \n",
      " 0   Concepto turístico                9718 non-null   object \n",
      " 1   Comunidades y Ciudades Autónomas  9718 non-null   object \n",
      " 2   Residencia del viajero            9718 non-null   object \n",
      " 3   Total                             9718 non-null   float64\n",
      " 4   Año                               9718 non-null   int32  \n",
      " 5   Mes                               9718 non-null   int32  \n",
      "dtypes: float64(1), int32(2), object(3)\n",
      "memory usage: 379.7+ KB\n"
     ]
    }
   ],
   "source": [
    "data.info()"
   ]
  },
  {
   "cell_type": "code",
   "execution_count": 16,
   "metadata": {},
   "outputs": [],
   "source": [
    "data.to_csv('../data/interim/data_cleaned.csv')"
   ]
  }
 ],
 "metadata": {
  "kernelspec": {
   "display_name": "analysis_tourist_occupancy_spain-urXoE1_9",
   "language": "python",
   "name": "python3"
  },
  "language_info": {
   "codemirror_mode": {
    "name": "ipython",
    "version": 3
   },
   "file_extension": ".py",
   "mimetype": "text/x-python",
   "name": "python",
   "nbconvert_exporter": "python",
   "pygments_lexer": "ipython3",
   "version": "3.10.12"
  }
 },
 "nbformat": 4,
 "nbformat_minor": 2
}
