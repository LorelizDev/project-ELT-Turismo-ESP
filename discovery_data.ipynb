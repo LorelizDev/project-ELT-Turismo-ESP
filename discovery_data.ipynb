{
 "cells": [
  {
   "cell_type": "markdown",
   "metadata": {},
   "source": [
    "# Discovery Fuentes datos.gob.es"
   ]
  },
  {
   "cell_type": "code",
   "execution_count": 1,
   "metadata": {},
   "outputs": [],
   "source": [
    "\n",
    "import pandas as pd\n",
    "import requests"
   ]
  },
  {
   "cell_type": "markdown",
   "metadata": {},
   "source": [
    "### Descarga del dataset"
   ]
  },
  {
   "cell_type": "markdown",
   "metadata": {},
   "source": [
    "Se utilizará un dataset público proporcionado por el Instituto Nacional de Estadística de España disponible en datos.gob.es."
   ]
  },
  {
   "cell_type": "code",
   "execution_count": 34,
   "metadata": {},
   "outputs": [],
   "source": [
    "# URL del archivo CSV\n",
    "URL = \"https://www.ine.es/jaxiT3/files/t/csv_bdsc/48423.csv\"\n",
    "\n",
    "# Ruta específica donde se desea guardar el archivo CSV descargado\n",
    "PATH = \"data/tourism_spain_dataset.csv\""
   ]
  },
  {
   "cell_type": "code",
   "execution_count": 5,
   "metadata": {},
   "outputs": [
    {
     "name": "stdout",
     "output_type": "stream",
     "text": [
      "Archivo descargado exitosamente en: data/tourism_spain_dataset.csv\n"
     ]
    }
   ],
   "source": [
    "# Realizamos la solicitud HTTP para descargar el archivo\n",
    "r = requests.get(URL)\n",
    "\n",
    "# Verificamos que la solicitud fue exitosa (código de estado 200)\n",
    "if r.status_code == 200:\n",
    "    # Guardamos la información descargada en el archivo local\n",
    "    with open(PATH, 'wb') as f:\n",
    "        f.write(r.content)\n",
    "    print(f\"Archivo descargado exitosamente en: {PATH}\")\n",
    "else:\n",
    "    print(f\"Error al descargar el archivo. Código de estado: {r.status_code}\")"
   ]
  },
  {
   "cell_type": "markdown",
   "metadata": {},
   "source": [
    "### Carga del dataset"
   ]
  },
  {
   "cell_type": "markdown",
   "metadata": {},
   "source": [
    "Cargamos nuestro dataset dentro de un dataframe de `pandas` que nos permite manipular, limpiar y visualizar fácilmente nuestros datos."
   ]
  },
  {
   "cell_type": "code",
   "execution_count": 6,
   "metadata": {},
   "outputs": [],
   "source": [
    "df = pd.read_csv(PATH, delimiter=';')"
   ]
  },
  {
   "cell_type": "markdown",
   "metadata": {},
   "source": [
    "Utilizamos el método `data.info` para conocer el tipo de dato de cada columna y la cantidad de valores no nulos."
   ]
  },
  {
   "cell_type": "code",
   "execution_count": 7,
   "metadata": {},
   "outputs": [
    {
     "name": "stdout",
     "output_type": "stream",
     "text": [
      "<class 'pandas.core.frame.DataFrame'>\n",
      "RangeIndex: 12420 entries, 0 to 12419\n",
      "Data columns (total 6 columns):\n",
      " #   Column                            Non-Null Count  Dtype \n",
      "---  ------                            --------------  ----- \n",
      " 0   Concepto turístico                12420 non-null  object\n",
      " 1   Total Nacional                    12420 non-null  object\n",
      " 2   Comunidades y Ciudades Autónomas  11799 non-null  object\n",
      " 3   Residencia del viajero            12420 non-null  object\n",
      " 4   Periodo                           12420 non-null  object\n",
      " 5   Total                             11907 non-null  object\n",
      "dtypes: object(6)\n",
      "memory usage: 582.3+ KB\n"
     ]
    }
   ],
   "source": [
    "df.info()"
   ]
  },
  {
   "cell_type": "code",
   "execution_count": 8,
   "metadata": {},
   "outputs": [
    {
     "data": {
      "text/html": [
       "<div>\n",
       "<style scoped>\n",
       "    .dataframe tbody tr th:only-of-type {\n",
       "        vertical-align: middle;\n",
       "    }\n",
       "\n",
       "    .dataframe tbody tr th {\n",
       "        vertical-align: top;\n",
       "    }\n",
       "\n",
       "    .dataframe thead th {\n",
       "        text-align: right;\n",
       "    }\n",
       "</style>\n",
       "<table border=\"1\" class=\"dataframe\">\n",
       "  <thead>\n",
       "    <tr style=\"text-align: right;\">\n",
       "      <th></th>\n",
       "      <th>Concepto turístico</th>\n",
       "      <th>Total Nacional</th>\n",
       "      <th>Comunidades y Ciudades Autónomas</th>\n",
       "      <th>Residencia del viajero</th>\n",
       "      <th>Periodo</th>\n",
       "      <th>Total</th>\n",
       "    </tr>\n",
       "  </thead>\n",
       "  <tbody>\n",
       "    <tr>\n",
       "      <th>0</th>\n",
       "      <td>Número de alojamientos turísticos ocupados</td>\n",
       "      <td>Total Nacional</td>\n",
       "      <td>NaN</td>\n",
       "      <td>Total</td>\n",
       "      <td>2023M09</td>\n",
       "      <td>1.019.000</td>\n",
       "    </tr>\n",
       "    <tr>\n",
       "      <th>1</th>\n",
       "      <td>Número de alojamientos turísticos ocupados</td>\n",
       "      <td>Total Nacional</td>\n",
       "      <td>NaN</td>\n",
       "      <td>Total</td>\n",
       "      <td>2023M08</td>\n",
       "      <td>1.287.000</td>\n",
       "    </tr>\n",
       "    <tr>\n",
       "      <th>2</th>\n",
       "      <td>Número de alojamientos turísticos ocupados</td>\n",
       "      <td>Total Nacional</td>\n",
       "      <td>NaN</td>\n",
       "      <td>Total</td>\n",
       "      <td>2023M07</td>\n",
       "      <td>1.164.000</td>\n",
       "    </tr>\n",
       "    <tr>\n",
       "      <th>3</th>\n",
       "      <td>Número de alojamientos turísticos ocupados</td>\n",
       "      <td>Total Nacional</td>\n",
       "      <td>NaN</td>\n",
       "      <td>Total</td>\n",
       "      <td>2023M06</td>\n",
       "      <td>775.000</td>\n",
       "    </tr>\n",
       "    <tr>\n",
       "      <th>4</th>\n",
       "      <td>Número de alojamientos turísticos ocupados</td>\n",
       "      <td>Total Nacional</td>\n",
       "      <td>NaN</td>\n",
       "      <td>Total</td>\n",
       "      <td>2023M05</td>\n",
       "      <td>691.000</td>\n",
       "    </tr>\n",
       "  </tbody>\n",
       "</table>\n",
       "</div>"
      ],
      "text/plain": [
       "                           Concepto turístico  Total Nacional  \\\n",
       "0  Número de alojamientos turísticos ocupados  Total Nacional   \n",
       "1  Número de alojamientos turísticos ocupados  Total Nacional   \n",
       "2  Número de alojamientos turísticos ocupados  Total Nacional   \n",
       "3  Número de alojamientos turísticos ocupados  Total Nacional   \n",
       "4  Número de alojamientos turísticos ocupados  Total Nacional   \n",
       "\n",
       "  Comunidades y Ciudades Autónomas Residencia del viajero  Periodo      Total  \n",
       "0                              NaN                 Total   2023M09  1.019.000  \n",
       "1                              NaN                 Total   2023M08  1.287.000  \n",
       "2                              NaN                 Total   2023M07  1.164.000  \n",
       "3                              NaN                 Total   2023M06    775.000  \n",
       "4                              NaN                 Total   2023M05    691.000  "
      ]
     },
     "execution_count": 8,
     "metadata": {},
     "output_type": "execute_result"
    }
   ],
   "source": [
    "df.head()"
   ]
  },
  {
   "cell_type": "code",
   "execution_count": 9,
   "metadata": {},
   "outputs": [
    {
     "data": {
      "text/plain": [
       "array([nan, '01 Andalucía', '02 Aragón', '03 Asturias, Principado de',\n",
       "       '04 Balears, Illes', '05 Canarias', '06 Cantabria',\n",
       "       '07 Castilla y León', '08 Castilla - La Mancha', '09 Cataluña',\n",
       "       '10 Comunitat Valenciana', '11 Extremadura', '12 Galicia',\n",
       "       '13 Madrid, Comunidad de', '14 Murcia, Región de',\n",
       "       '15 Navarra, Comunidad Foral de', '16 País Vasco', '17 Rioja, La',\n",
       "       '18 Ceuta', '19 Melilla'], dtype=object)"
      ]
     },
     "execution_count": 9,
     "metadata": {},
     "output_type": "execute_result"
    }
   ],
   "source": [
    "df['Comunidades y Ciudades Autónomas'].unique()"
   ]
  },
  {
   "cell_type": "code",
   "execution_count": 19,
   "metadata": {},
   "outputs": [
    {
     "data": {
      "text/html": [
       "<div>\n",
       "<style scoped>\n",
       "    .dataframe tbody tr th:only-of-type {\n",
       "        vertical-align: middle;\n",
       "    }\n",
       "\n",
       "    .dataframe tbody tr th {\n",
       "        vertical-align: top;\n",
       "    }\n",
       "\n",
       "    .dataframe thead th {\n",
       "        text-align: right;\n",
       "    }\n",
       "</style>\n",
       "<table border=\"1\" class=\"dataframe\">\n",
       "  <thead>\n",
       "    <tr style=\"text-align: right;\">\n",
       "      <th></th>\n",
       "      <th>Comunidades y Ciudades Autónomas</th>\n",
       "      <th>Periodo</th>\n",
       "      <th>Concepto turístico</th>\n",
       "      <th>Total</th>\n",
       "    </tr>\n",
       "  </thead>\n",
       "  <tbody>\n",
       "    <tr>\n",
       "      <th>207</th>\n",
       "      <td>01 Andalucía</td>\n",
       "      <td>2023M09</td>\n",
       "      <td>Número de alojamientos turísticos ocupados</td>\n",
       "      <td>NaN</td>\n",
       "    </tr>\n",
       "    <tr>\n",
       "      <th>8548</th>\n",
       "      <td>01 Andalucía</td>\n",
       "      <td>2018M08</td>\n",
       "      <td>Estancia media</td>\n",
       "      <td>4,6</td>\n",
       "    </tr>\n",
       "    <tr>\n",
       "      <th>8547</th>\n",
       "      <td>01 Andalucía</td>\n",
       "      <td>2018M09</td>\n",
       "      <td>Estancia media</td>\n",
       "      <td>3,9</td>\n",
       "    </tr>\n",
       "    <tr>\n",
       "      <th>8546</th>\n",
       "      <td>01 Andalucía</td>\n",
       "      <td>2018M10</td>\n",
       "      <td>Estancia media</td>\n",
       "      <td>3,6</td>\n",
       "    </tr>\n",
       "    <tr>\n",
       "      <th>8545</th>\n",
       "      <td>01 Andalucía</td>\n",
       "      <td>2018M11</td>\n",
       "      <td>Estancia media</td>\n",
       "      <td>3,4</td>\n",
       "    </tr>\n",
       "    <tr>\n",
       "      <th>...</th>\n",
       "      <td>...</td>\n",
       "      <td>...</td>\n",
       "      <td>...</td>\n",
       "      <td>...</td>\n",
       "    </tr>\n",
       "    <tr>\n",
       "      <th>8482</th>\n",
       "      <td>NaN</td>\n",
       "      <td>2018M05</td>\n",
       "      <td>Estancia media</td>\n",
       "      <td>4,4</td>\n",
       "    </tr>\n",
       "    <tr>\n",
       "      <th>8483</th>\n",
       "      <td>NaN</td>\n",
       "      <td>2018M04</td>\n",
       "      <td>Estancia media</td>\n",
       "      <td>4,5</td>\n",
       "    </tr>\n",
       "    <tr>\n",
       "      <th>8484</th>\n",
       "      <td>NaN</td>\n",
       "      <td>2018M03</td>\n",
       "      <td>Estancia media</td>\n",
       "      <td>4,9</td>\n",
       "    </tr>\n",
       "    <tr>\n",
       "      <th>8485</th>\n",
       "      <td>NaN</td>\n",
       "      <td>2018M02</td>\n",
       "      <td>Estancia media</td>\n",
       "      <td>5,3</td>\n",
       "    </tr>\n",
       "    <tr>\n",
       "      <th>8486</th>\n",
       "      <td>NaN</td>\n",
       "      <td>2018M01</td>\n",
       "      <td>Estancia media</td>\n",
       "      <td>5,2</td>\n",
       "    </tr>\n",
       "  </tbody>\n",
       "</table>\n",
       "<p>10703 rows × 4 columns</p>\n",
       "</div>"
      ],
      "text/plain": [
       "     Comunidades y Ciudades Autónomas  Periodo  \\\n",
       "207                      01 Andalucía  2023M09   \n",
       "8548                     01 Andalucía  2018M08   \n",
       "8547                     01 Andalucía  2018M09   \n",
       "8546                     01 Andalucía  2018M10   \n",
       "8545                     01 Andalucía  2018M11   \n",
       "...                               ...      ...   \n",
       "8482                              NaN  2018M05   \n",
       "8483                              NaN  2018M04   \n",
       "8484                              NaN  2018M03   \n",
       "8485                              NaN  2018M02   \n",
       "8486                              NaN  2018M01   \n",
       "\n",
       "                              Concepto turístico Total  \n",
       "207   Número de alojamientos turísticos ocupados   NaN  \n",
       "8548                              Estancia media   4,6  \n",
       "8547                              Estancia media   3,9  \n",
       "8546                              Estancia media   3,6  \n",
       "8545                              Estancia media   3,4  \n",
       "...                                          ...   ...  \n",
       "8482                              Estancia media   4,4  \n",
       "8483                              Estancia media   4,5  \n",
       "8484                              Estancia media   4,9  \n",
       "8485                              Estancia media   5,3  \n",
       "8486                              Estancia media   5,2  \n",
       "\n",
       "[10703 rows x 4 columns]"
      ]
     },
     "execution_count": 19,
     "metadata": {},
     "output_type": "execute_result"
    }
   ],
   "source": [
    "df[['Comunidades y Ciudades Autónomas', 'Periodo', 'Concepto turístico', 'Total']].drop_duplicates().sort_values(by='Comunidades y Ciudades Autónomas')"
   ]
  },
  {
   "cell_type": "code",
   "execution_count": 33,
   "metadata": {},
   "outputs": [],
   "source": [
    "df.sample(50).to_csv('test/tourism_spain_sample.csv')"
   ]
  },
  {
   "cell_type": "code",
   "execution_count": 31,
   "metadata": {},
   "outputs": [],
   "source": [
    "df.query('`Comunidades y Ciudades Autónomas`== \"01 Andalucía\"').sample(50).to_csv('test/Andalucía_sample.csv')"
   ]
  }
 ],
 "metadata": {
  "kernelspec": {
   "display_name": "analysis_tourist_occupancy_spain-urXoE1_9",
   "language": "python",
   "name": "python3"
  },
  "language_info": {
   "codemirror_mode": {
    "name": "ipython",
    "version": 3
   },
   "file_extension": ".py",
   "mimetype": "text/x-python",
   "name": "python",
   "nbconvert_exporter": "python",
   "pygments_lexer": "ipython3",
   "version": "3.10.12"
  }
 },
 "nbformat": 4,
 "nbformat_minor": 2
}
